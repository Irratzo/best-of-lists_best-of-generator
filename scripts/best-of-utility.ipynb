{
 "cells": [
  {
   "cell_type": "markdown",
   "metadata": {},
   "source": [
    "# Best-of Utility Notebook <a class=\"tocSkip\">"
   ]
  },
  {
   "cell_type": "markdown",
   "metadata": {},
   "source": [
    "**In this notebook:**\n",
    "\n",
    "- Extract Github projects from a file.\n",
    "- Check & improve existing best-of list.\n",
    "\n",
    "_Please use a Python 3 kernel for the notebook_"
   ]
  },
  {
   "cell_type": "markdown",
   "metadata": {},
   "source": [
    "## Dependencies"
   ]
  },
  {
   "cell_type": "markdown",
   "metadata": {},
   "source": [
    "### Install Dependencies"
   ]
  },
  {
   "cell_type": "code",
   "execution_count": null,
   "metadata": {},
   "outputs": [],
   "source": [
    "# Nothing to install"
   ]
  },
  {
   "cell_type": "markdown",
   "metadata": {},
   "source": [
    "### Import Dependencies"
   ]
  },
  {
   "cell_type": "code",
   "execution_count": null,
   "metadata": {
    "ExecuteTime": {
     "end_time": "2020-12-22T20:52:49.352924Z",
     "start_time": "2020-12-22T20:52:48.343826Z"
    }
   },
   "outputs": [],
   "source": [
    "%load_ext autoreload\n",
    "%autoreload 2\n",
    "\n",
    "# System libraries\n",
    "import logging, os, sys\n",
    "import re, shutil\n",
    "import subprocess\n",
    "import time\n",
    "import yaml\n",
    "import glob, os\n",
    "import json\n",
    "from collections import Counter, OrderedDict\n",
    "from datetime import datetime\n",
    "from typing import Tuple\n",
    "\n",
    "# Enable logging\n",
    "logging.basicConfig(\n",
    "    format=\"[%(levelname)s] %(message)s\", level=logging.INFO, stream=sys.stdout\n",
    ")\n",
    "\n",
    "# logging.basicConfig(format='[%(levelname)s] %(message)s', level=logging.DEBUG, stream=sys.stdout)\n",
    "log = logging.getLogger()\n",
    "\n",
    "import pandas as pd\n",
    "import yaml\n",
    "from addict import Dict\n",
    "import qgrid\n",
    "\n",
    "from best_of import utils, yaml_generation\n",
    "from best_of.integrations import libio_integration\n",
    "from best_of.generator import parse_projects_yaml\n",
    "\n",
    "os.environ[\"LIBRARIES_API_KEY\"] = \"<LIBIO_API_KEY>\"\n",
    "os.environ[\"GITHUB_API_KEY\"] = \"<GITHUB_API_KEY>\""
   ]
  },
  {
   "cell_type": "markdown",
   "metadata": {},
   "source": [
    "## Extract projects from file"
   ]
  },
  {
   "cell_type": "markdown",
   "metadata": {},
   "source": [
    "### Load best-of history files for exclusion\n",
    "\n",
    "Select all history files from which the projects will be excluded for extraction below."
   ]
  },
  {
   "cell_type": "code",
   "execution_count": null,
   "metadata": {
    "ExecuteTime": {
     "end_time": "2020-12-22T20:52:55.377882Z",
     "start_time": "2020-12-22T20:52:55.090221Z"
    }
   },
   "outputs": [],
   "source": [
    "# CHANGE: Add all relevant history files here:\n",
    "BEST_OF_LISTS = [\"<HISTORY-FILE-PATH>\"]\n",
    "\n",
    "# Combine all best-of-lists into one based on github_id\n",
    "github_projects = {}\n",
    "for project_csv_path in BEST_OF_LISTS:\n",
    "    df_projects = pd.read_csv(project_csv_path, index_col=0, keep_default_na=False)\n",
    "    for i, row in df_projects.iterrows():\n",
    "        if \"github_id\" in row and row[\"github_id\"]:\n",
    "            github_id = utils.simplify_str(row[\"github_id\"])\n",
    "            if github_id not in github_projects:\n",
    "                github_projects[github_id] = row.to_dict()\n",
    "\n",
    "df_projects = pd.DataFrame(github_projects.values())\n",
    "\n",
    "# Show loaded projects\n",
    "qgrid.show_grid(\n",
    "    df_projects[[\"github_id\", \"github_url\", \"projectrank\", \"license\", \"star_count\"]]\n",
    ")"
   ]
  },
  {
   "cell_type": "markdown",
   "metadata": {},
   "source": [
    "### Option 1: Extract projects via Github URL matching"
   ]
  },
  {
   "cell_type": "code",
   "execution_count": null,
   "metadata": {
    "ExecuteTime": {
     "end_time": "2020-12-22T20:53:55.661142Z",
     "start_time": "2020-12-22T20:53:10.540203Z"
    }
   },
   "outputs": [],
   "source": [
    "# CHANGE: Select a file via URL, file-path, or provide the string content here:\n",
    "EXTRACT_FILE = \"<URL-or-TEXT-or-FILE>\"\n",
    "\n",
    "# Run github link extraction on the provided file\n",
    "extracted_projects = yaml_generation.extract_github_projects(\n",
    "    EXTRACT_FILE,\n",
    "    df_projects[\"github_id\"].to_list(),\n",
    ")"
   ]
  },
  {
   "cell_type": "code",
   "execution_count": null,
   "metadata": {
    "ExecuteTime": {
     "end_time": "2020-12-22T20:53:55.723754Z",
     "start_time": "2020-12-22T20:53:55.666376Z"
    }
   },
   "outputs": [],
   "source": [
    "# Show extracted projects\n",
    "qgrid.show_grid(\n",
    "    pd.DataFrame(extracted_projects)[\n",
    "        [\"github_id\", \"projectrank\", \"license\", \"star_count\"]\n",
    "    ]\n",
    ")"
   ]
  },
  {
   "cell_type": "markdown",
   "metadata": {},
   "source": [
    "### Option 2: Extract projects from requirements.txt"
   ]
  },
  {
   "cell_type": "code",
   "execution_count": null,
   "metadata": {
    "ExecuteTime": {
     "end_time": "2020-12-22T21:46:55.600396Z",
     "start_time": "2020-12-22T21:40:50.087122Z"
    }
   },
   "outputs": [],
   "source": [
    "# LIBRARIES_API_KEY should be set!\n",
    "# os.environ[\"LIBRARIES_API_KEY\"] = \"<LIBRARIES-TOKEN>\"\n",
    "\n",
    "# CHANGE: Select a file via URL, file-path, or provide the string content here:\n",
    "EXTRACT_FILE = \"<URL-or-TEXT-or-FILE>\"\n",
    "\n",
    "# Extract projects\n",
    "extracted_projects = yaml_generation.extract_pypi_projects_from_requirements(\n",
    "    EXTRACT_FILE, df_projects[\"pypi_id\"].to_list()\n",
    ")"
   ]
  },
  {
   "cell_type": "code",
   "execution_count": null,
   "metadata": {
    "ExecuteTime": {
     "end_time": "2020-12-22T21:46:55.674331Z",
     "start_time": "2020-12-22T21:46:55.606951Z"
    }
   },
   "outputs": [],
   "source": [
    "# Show extracted projects\n",
    "qgrid.show_grid(\n",
    "    pd.DataFrame(extracted_projects)[\n",
    "        [\"github_id\", \"pypi_id\", \"projectrank\", \"license\", \"star_count\"]\n",
    "    ]\n",
    ")"
   ]
  },
  {
   "cell_type": "markdown",
   "metadata": {},
   "source": [
    "### Auto discover project packages"
   ]
  },
  {
   "cell_type": "code",
   "execution_count": null,
   "metadata": {
    "ExecuteTime": {
     "end_time": "2020-12-22T20:54:36.771674Z",
     "start_time": "2020-12-22T20:54:17.746894Z"
    }
   },
   "outputs": [],
   "source": [
    "# CHANGE: Activate the package managers that are relevant for the given best-of-list\n",
    "updated_projects = yaml_generation.auto_extend_package_manager(\n",
    "    extracted_projects, pypi=True, conda=True\n",
    ")"
   ]
  },
  {
   "cell_type": "code",
   "execution_count": null,
   "metadata": {
    "ExecuteTime": {
     "end_time": "2020-12-22T20:54:36.842090Z",
     "start_time": "2020-12-22T20:54:36.774921Z"
    }
   },
   "outputs": [],
   "source": [
    "# Add column to select projects\n",
    "df_updated_projects = pd.DataFrame(updated_projects)\n",
    "df_updated_projects[\"selected\"] = False\n",
    "\n",
    "# Select columns to show\n",
    "selected_colum = [\n",
    "    \"selected\",\n",
    "    \"name\",\n",
    "    \"description\",\n",
    "    \"github_id\",\n",
    "    \"projectrank\",\n",
    "    \"license\",\n",
    "    \"star_count\",\n",
    "    \"monthly_downloads\",\n",
    "]\n",
    "\n",
    "# Add all available package managers\n",
    "from best_of.integrations import AVAILABLE_PACKAGE_MANAGER\n",
    "\n",
    "package_columns = list(\n",
    "    set(list(df_updated_projects.columns.values))\n",
    "    & set([package_manager + \"_id\" for package_manager in AVAILABLE_PACKAGE_MANAGER])\n",
    ")\n",
    "selected_colum.extend(package_columns)\n",
    "\n",
    "# Show updated projects\n",
    "qgrid_pdated_projects = qgrid.show_grid(df_updated_projects[selected_colum])\n",
    "qgrid_pdated_projects"
   ]
  },
  {
   "cell_type": "markdown",
   "metadata": {},
   "source": [
    "### Show selected projects as YAML\n",
    "\n",
    "Export all select projects (interactivly in qgrid table above) to yaml. This output can be easily added to a best-of `projects.yaml`."
   ]
  },
  {
   "cell_type": "code",
   "execution_count": null,
   "metadata": {
    "ExecuteTime": {
     "end_time": "2020-12-22T22:14:27.266549Z",
     "start_time": "2020-12-22T22:14:27.205243Z"
    }
   },
   "outputs": [],
   "source": [
    "# Get changed df from qgrid widget\n",
    "df_selected_projects = qgrid_pdated_projects.get_changed_df()\n",
    "# Filter all selected\n",
    "df_selected_projects = df_selected_projects[df_selected_projects[\"selected\"] == True]\n",
    "df_selected_projects = df_selected_projects.where(\n",
    "    pd.notnull(df_selected_projects), None\n",
    ")\n",
    "\n",
    "from best_of.integrations import AVAILABLE_PACKAGE_MANAGER\n",
    "\n",
    "export_columns = [\n",
    "    \"name\",\n",
    "    \"github_id\",\n",
    "]\n",
    "export_columns.extend(package_columns)\n",
    "selected_projects = df_selected_projects[export_columns].to_dict(\"records\")\n",
    "\n",
    "# To yaml format\n",
    "print(yaml.dump(selected_projects, default_flow_style=False, sort_keys=False))"
   ]
  },
  {
   "cell_type": "markdown",
   "metadata": {},
   "source": [
    "## Improve existing list"
   ]
  },
  {
   "cell_type": "markdown",
   "metadata": {},
   "source": [
    "### Load best-of history csv"
   ]
  },
  {
   "cell_type": "code",
   "execution_count": null,
   "metadata": {
    "ExecuteTime": {
     "end_time": "2020-12-22T14:49:37.402509Z",
     "start_time": "2020-12-22T14:49:37.325812Z"
    }
   },
   "outputs": [],
   "source": [
    "BEST_OF_LIST = \"<HISTORY-FILE-PATH>\"\n",
    "\n",
    "date_columns = [\n",
    "    \"last_commit_pushed_at\",\n",
    "    \"created_at\",\n",
    "    \"updated_at\",\n",
    "    \"latest_stable_release_published_at\",\n",
    "    \"pypi_latest_release_published_at\",\n",
    "    \"conda_latest_release_published_at\",\n",
    "    \"dockerhub_latest_release_published_at\",\n",
    "    \"npm_latest_release_published_at\",\n",
    "    \"maven_latest_release_published_at\",\n",
    "]\n",
    "\n",
    "df_projects = pd.read_csv(\n",
    "    BEST_OF_LIST,\n",
    "    index_col=0,\n",
    "    infer_datetime_format=True,\n",
    "    parse_dates=date_columns,\n",
    ")\n",
    "\n",
    "df_projects = df_projects.where(pd.notnull(df_projects), None)\n",
    "\n",
    "selected_colum = [\n",
    "    \"name\",\n",
    "    \"github_id\",\n",
    "]\n",
    "# Add all available package managers\n",
    "from best_of.integrations import AVAILABLE_PACKAGE_MANAGER\n",
    "\n",
    "package_columns = list(\n",
    "    set(list(df_updated_projects.columns.values))\n",
    "    & set([package_manager + \"_id\" for package_manager in AVAILABLE_PACKAGE_MANAGER])\n",
    ")\n",
    "selected_colum.extend(package_columns)\n",
    "\n",
    "projects = df_projects[selected_colum].to_dict(\"records\")"
   ]
  },
  {
   "cell_type": "markdown",
   "metadata": {
    "ExecuteTime": {
     "end_time": "2020-12-22T14:53:18.301995Z",
     "start_time": "2020-12-22T14:53:18.245589Z"
    }
   },
   "source": [
    "### Run auto extend functionality\n",
    "\n",
    "At the moment, the detected packages need to be added manually to the `projects.yaml` file."
   ]
  },
  {
   "cell_type": "code",
   "execution_count": null,
   "metadata": {
    "ExecuteTime": {
     "end_time": "2020-12-22T14:56:53.375178Z",
     "start_time": "2020-12-22T14:53:29.855660Z"
    }
   },
   "outputs": [],
   "source": [
    "updated_projects = yaml_generation.auto_extend_package_manager(\n",
    "    projects, pypi=True, conda=True\n",
    ")"
   ]
  }
 ],
 "metadata": {
  "kernelspec": {
   "display_name": "Python 3",
   "language": "python",
   "name": "python3"
  },
  "language_info": {
   "codemirror_mode": {
    "name": "ipython",
    "version": 3
   },
   "file_extension": ".py",
   "mimetype": "text/x-python",
   "name": "python",
   "nbconvert_exporter": "python",
   "pygments_lexer": "ipython3",
   "version": "3.8.5"
  },
  "toc": {
   "base_numbering": 1,
   "nav_menu": {},
   "number_sections": false,
   "sideBar": true,
   "skip_h1_title": false,
   "title_cell": "Table of Contents",
   "title_sidebar": "Contents",
   "toc_cell": false,
   "toc_position": {
    "height": "calc(100% - 180px)",
    "left": "10px",
    "top": "150px",
    "width": "384px"
   },
   "toc_section_display": true,
   "toc_window_display": true
  }
 },
 "nbformat": 4,
 "nbformat_minor": 2
}
